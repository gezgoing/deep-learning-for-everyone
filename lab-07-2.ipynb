{
 "cells": [
  {
   "cell_type": "markdown",
   "metadata": {},
   "source": [
    "# Lab 07-2"
   ]
  },
  {
   "cell_type": "markdown",
   "metadata": {},
   "source": [
    "## Mnist"
   ]
  },
  {
   "cell_type": "code",
   "execution_count": 16,
   "metadata": {},
   "outputs": [
    {
     "name": "stdout",
     "output_type": "stream",
     "text": [
      "Extracting MNIST_data/train-images-idx3-ubyte.gz\n",
      "Extracting MNIST_data/train-labels-idx1-ubyte.gz\n",
      "Extracting MNIST_data/t10k-images-idx3-ubyte.gz\n",
      "Extracting MNIST_data/t10k-labels-idx1-ubyte.gz\n",
      "Epoch: 0001 cost = 9.441447540\n",
      "Epoch: 0002 cost = 5.009973181\n",
      "Epoch: 0003 cost = 3.458026828\n",
      "Epoch: 0004 cost = 2.714311272\n",
      "Epoch: 0005 cost = 2.276049848\n",
      "Epoch: 0006 cost = 1.987544133\n",
      "Epoch: 0007 cost = 1.783692045\n",
      "Epoch: 0008 cost = 1.632074710\n",
      "Epoch: 0009 cost = 1.515196727\n",
      "Epoch: 0010 cost = 1.421854787\n",
      "Epoch: 0011 cost = 1.345552731\n",
      "Epoch: 0012 cost = 1.281787019\n",
      "Epoch: 0013 cost = 1.227364286\n",
      "Epoch: 0014 cost = 1.180427579\n",
      "Epoch: 0015 cost = 1.139318869\n",
      "Accuracy:  0.7873\n"
     ]
    }
   ],
   "source": [
    "from tensorflow.examples.tutorials.mnist import input_data\n",
    "import tensorflow as tf\n",
    "\n",
    "mnist = input_data.read_data_sets(\"MNIST_data/\", one_hot=True)\n",
    "\n",
    "X = tf.placeholder(tf.float32, shape=[None, 784])\n",
    "Y = tf.placeholder(tf.float32, shape=[None, 10])\n",
    "\n",
    "Y_one_hot = tf.one_hot(tf.argmax(Y, axis=1), 10)\n",
    "Y_one_hot = tf.reshape(Y_one_hot, [-1, 10])\n",
    "\n",
    "W = tf.Variable(tf.random_normal([784, 10]), name='weight')\n",
    "b = tf.Variable(tf.random_normal([10]), name='bias')\n",
    "\n",
    "hypothesis = tf.nn.softmax(tf.matmul(X, W) + b)\n",
    "\n",
    "cost = tf.reduce_mean(-tf.reduce_sum(Y * tf.log(hypothesis), axis=1))\n",
    "optimizer = tf.train.GradientDescentOptimizer(learning_rate=0.01)\n",
    "train = optimizer.minimize(cost)\n",
    "\n",
    "prediction = tf.argmax(hypothesis, axis=1)\n",
    "is_correct = tf.equal(prediction, tf.argmax(Y, axis=1))\n",
    "accuracy = tf.reduce_mean(tf.cast(is_correct, tf.float32))\n",
    "\n",
    "epochs = 15\n",
    "batch_size = 100\n",
    "num_iteartions = int(mnist.train.images.shape[0] / batch_size)\n",
    "\n",
    "sess = tf.Session()\n",
    "sess.run(tf.global_variables_initializer())\n",
    "\n",
    "for epoch in range(epochs):\n",
    "    total_cost = 0\n",
    "\n",
    "    for i in range(num_iteartions):\n",
    "        batch_x_data, batch_y_data = mnist.train.next_batch(batch_size)\n",
    "\n",
    "        cost_val, _ = sess.run([cost, train], feed_dict={X: batch_x_data, Y: batch_y_data})\n",
    "\n",
    "        total_cost += cost_val\n",
    "\n",
    "    print('Epoch:', '%04d' % (epoch + 1), 'cost =', '{:.9f}'.format(total_cost / num_iteartions))\n",
    "\n",
    "acc_val = sess.run(accuracy, feed_dict={X: mnist.test.images, Y: mnist.test.labels})\n",
    "print(\"Accuracy: \", acc_val)"
   ]
  },
  {
   "cell_type": "markdown",
   "metadata": {},
   "source": [
    "### Sample image show and prediction"
   ]
  },
  {
   "cell_type": "code",
   "execution_count": 25,
   "metadata": {},
   "outputs": [
    {
     "name": "stdout",
     "output_type": "stream",
     "text": [
      "Label:  [8]\n",
      "Prediction:  [2]\n"
     ]
    },
    {
     "data": {
      "image/png": "[encoded data removed]",
      "text/plain": [
       "<matplotlib.figure.Figure at 0x128215e48>"
      ]
     },
     "metadata": {},
     "output_type": "display_data"
    }
   ],
   "source": [
    "import matplotlib.pyplot as plt\n",
    "import random\n",
    "\n",
    "r = random.randint(0, mnist.test.num_examples - 1)\n",
    "\n",
    "print('Label: ', sess.run(tf.argmax(mnist.test.labels[r:r + 1], axis=1)))\n",
    "print('Prediction: ', sess.run(prediction, feed_dict={X: mnist.test.images[r:r + 1]}))\n",
    "\n",
    "plt.imshow(mnist.test.images[r:r + 1].reshape(28, 28), cmap='Greys', interpolation='nearest')\n",
    "plt.show()"
   ]
  },
  {
   "cell_type": "code",
   "execution_count": null,
   "metadata": {},
   "outputs": [],
   "source": []
  },
  {
   "cell_type": "code",
   "execution_count": null,
   "metadata": {},
   "outputs": [],
   "source": []
  }
 ],
 "metadata": {
  "kernelspec": {
   "display_name": "Python 3",
   "language": "python",
   "name": "python3"
  },
  "language_info": {
   "codemirror_mode": {
    "name": "ipython",
    "version": 3
   },
   "file_extension": ".py",
   "mimetype": "text/x-python",
   "name": "python",
   "nbconvert_exporter": "python",
   "pygments_lexer": "ipython3",
   "version": "3.6.2"
  }
 },
 "nbformat": 4,
 "nbformat_minor": 2
}
