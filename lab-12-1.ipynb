{
 "cells": [
  {
   "cell_type": "markdown",
   "metadata": {},
   "source": [
    "# Lab 12-1"
   ]
  },
  {
   "cell_type": "code",
   "execution_count": 1,
   "metadata": {},
   "outputs": [
    {
     "name": "stderr",
     "output_type": "stream",
     "text": [
      "/home/jinhyuk/tensorflow/lib/python3.5/site-packages/h5py/__init__.py:36: FutureWarning: Conversion of the second argument of issubdtype from `float` to `np.floating` is deprecated. In future, it will be treated as `np.float64 == np.dtype(float).type`.\n",
      "  from ._conv import register_converters as _register_converters\n"
     ]
    }
   ],
   "source": [
    "import numpy as np\n",
    "import tensorflow as tf\n",
    "import pprint as pp"
   ]
  },
  {
   "cell_type": "markdown",
   "metadata": {},
   "source": [
    "## RNN in TensorFlow\n",
    "\n",
    "1. create a cell\n",
    "```python\n",
    "cell = tf.contrib.rnn.BasicRNNCell(num_units=hidden_size)\n",
    "```\n",
    "\n",
    "2. create outputs\n",
    "```python\n",
    "outputs, _states = tf.nn.dynamic_rnn(cell, x_data, dtype=tf.float32)\n",
    "```"
   ]
  },
  {
   "cell_type": "markdown",
   "metadata": {},
   "source": [
    "## One node: 4 (input-dim) in 2 (hidden_size)"
   ]
  },
  {
   "cell_type": "code",
   "execution_count": 10,
   "metadata": {},
   "outputs": [
    {
     "name": "stdout",
     "output_type": "stream",
     "text": [
      "array([[[0.05512083, 0.04178677]]], dtype=float32)\n"
     ]
    }
   ],
   "source": [
    "hidden_size = 2\n",
    "cell = tf.contrib.rnn.BasicLSTMCell(num_units=hidden_size)\n",
    "\n",
    "x_data = np.array([[[1, 0, 0, 0]]], dtype=np.float32)\n",
    "with tf.variable_scope('rnn', reuse=tf.AUTO_REUSE) as scope:\n",
    "    outputs, _ = tf.nn.dynamic_rnn(cell, x_data, dtype=tf.float32, scope=scope)\n",
    "\n",
    "with tf.Session() as sess:\n",
    "    sess.run(tf.global_variables_initializer())\n",
    "    pp.pprint(outputs.eval())"
   ]
  },
  {
   "cell_type": "markdown",
   "metadata": {},
   "source": [
    "## Unfolding to n sequences"
   ]
  },
  {
   "cell_type": "code",
   "execution_count": 12,
   "metadata": {},
   "outputs": [
    {
     "name": "stdout",
     "output_type": "stream",
     "text": [
      "array([[[ 0.01205457, -0.06495225],\n",
      "        [-0.05564936, -0.04058176],\n",
      "        [ 0.0488038 ,  0.0676472 ],\n",
      "        [ 0.13734378,  0.13817015],\n",
      "        [ 0.31254596,  0.01980137]]], dtype=float32)\n"
     ]
    }
   ],
   "source": [
    "# hidden_size=2, sequence_length=5\n",
    "# sequence_length is a number of unfolded cells and it automatically defined by dimension of input data\n",
    "\n",
    "h = [1, 0, 0, 0]\n",
    "e = [0, 1, 0, 0]\n",
    "l = [0, 0, 1, 0]\n",
    "o = [0, 0, 0, 1]\n",
    "\n",
    "hidden_size = 2\n",
    "cell = tf.contrib.rnn.BasicLSTMCell(num_units=hidden_size)\n",
    "\n",
    "x_data = np.array([[h, e, l, l, o]], dtype=np.float32)\n",
    "with tf.variable_scope('rnn', reuse=tf.AUTO_REUSE) as scope:\n",
    "    outputs, _ = tf.nn.dynamic_rnn(cell, x_data, dtype=tf.float32, scope=scope)\n",
    "\n",
    "with tf.Session() as sess:\n",
    "    sess.run(tf.global_variables_initializer())\n",
    "    pp.pprint(outputs.eval())"
   ]
  },
  {
   "cell_type": "markdown",
   "metadata": {},
   "source": [
    "## Batching input"
   ]
  },
  {
   "cell_type": "code",
   "execution_count": 13,
   "metadata": {},
   "outputs": [
    {
     "name": "stdout",
     "output_type": "stream",
     "text": [
      "array([[[-0.14534512,  0.00050378],\n",
      "        [-0.09984852,  0.0238088 ],\n",
      "        [-0.01223521, -0.10729959],\n",
      "        [ 0.03769117, -0.21433607],\n",
      "        [-0.01439657, -0.05820508]],\n",
      "\n",
      "       [[-0.02419695,  0.00396508],\n",
      "        [-0.04170949,  0.07611369],\n",
      "        [ 0.04421178, -0.05545608],\n",
      "        [ 0.07837626, -0.18496408],\n",
      "        [ 0.08536024, -0.2788304 ]],\n",
      "\n",
      "       [[ 0.05746493, -0.13791747],\n",
      "        [ 0.07750098, -0.24467468],\n",
      "        [-0.01709338, -0.17768921],\n",
      "        [-0.06927705, -0.10108864],\n",
      "        [-0.00557331, -0.19262384]]], dtype=float32)\n"
     ]
    }
   ],
   "source": [
    "# hidden_size=2, sequence_length=5, batch_size=3\n",
    "# batch size is a number of data\n",
    "\n",
    "h = [1, 0, 0, 0]\n",
    "e = [0, 1, 0, 0]\n",
    "l = [0, 0, 1, 0]\n",
    "o = [0, 0, 0, 1]\n",
    "\n",
    "hidden_size = 2\n",
    "cell = tf.contrib.rnn.BasicLSTMCell(num_units=hidden_size)\n",
    "\n",
    "x_data = np.array([[h, e, l, l, o],\n",
    "                   [e, o, l, l, l],\n",
    "                   [l, l, e, e, l]], dtype=np.float32)\n",
    "with tf.variable_scope('rnn', reuse=tf.AUTO_REUSE) as scope:\n",
    "    outputs, _ = tf.nn.dynamic_rnn(cell, x_data, dtype=tf.float32, scope=scope)\n",
    "\n",
    "with tf.Session() as sess:\n",
    "    sess.run(tf.global_variables_initializer())\n",
    "    pp.pprint(outputs.eval())"
   ]
  }
 ],
 "metadata": {
  "kernelspec": {
   "display_name": "Python 3",
   "language": "python",
   "name": "python3"
  },
  "language_info": {
   "codemirror_mode": {
    "name": "ipython",
    "version": 3
   },
   "file_extension": ".py",
   "mimetype": "text/x-python",
   "name": "python",
   "nbconvert_exporter": "python",
   "pygments_lexer": "ipython3",
   "version": "3.5.2"
  }
 },
 "nbformat": 4,
 "nbformat_minor": 2
}
